{
 "cells": [
  {
   "cell_type": "code",
   "execution_count": 1,
   "metadata": {},
   "outputs": [],
   "source": [
    "import os\n",
    "from langchain.docstore.document import Document\n",
    "\n",
    "os.environ['OPENAI_API_KEY'] = \"API KEY HERE\"\n",
    "\n",
    "class MarkdownLoader:\n",
    "    def __init__(self, directory):\n",
    "        self.directory = directory\n",
    "\n",
    "    def load(self):\n",
    "        documents = []\n",
    "        for root, _, files in os.walk(self.directory):\n",
    "            for file in files:\n",
    "                if file.endswith('.md'):\n",
    "                    file_path = os.path.join(root, file)\n",
    "                    with open(file_path, 'r') as f:\n",
    "                        content = f.read()\n",
    "                        metadata = {'source': file_path}\n",
    "                        documents.append(Document(page_content=content, metadata=metadata))\n",
    "        return documents"
   ]
  },
  {
   "cell_type": "code",
   "execution_count": 2,
   "metadata": {},
   "outputs": [
    {
     "name": "stdout",
     "output_type": "stream",
     "text": [
      "Cloning into 'documentation'...\n",
      "remote: Enumerating objects: 16310, done.\u001b[K\n",
      "remote: Counting objects: 100% (1371/1371), done.\u001b[K\n",
      "remote: Compressing objects: 100% (625/625), done.\u001b[K\n",
      "remote: Total 16310 (delta 563), reused 1007 (delta 393), pack-reused 14939\u001b[K\n",
      "Receiving objects: 100% (16310/16310), 22.86 MiB | 14.06 MiB/s, done.\n",
      "Resolving deltas: 100% (8861/8861), done.\n"
     ]
    }
   ],
   "source": [
    "# Load your documents\n",
    "# !git clone https://github.com/polywrap/documentation.git #uncomment this line the first time code is run\n",
    "loader = MarkdownLoader(\"documentation\")\n",
    "docs = loader.load()"
   ]
  },
  {
   "cell_type": "code",
   "execution_count": 3,
   "metadata": {},
   "outputs": [
    {
     "name": "stderr",
     "output_type": "stream",
     "text": [
      "Created a chunk of size 2012, which is longer than the specified 1000\n",
      "Created a chunk of size 1583, which is longer than the specified 1000\n",
      "Using embedded DuckDB without persistence: data will be transient\n"
     ]
    }
   ],
   "source": [
    "from langchain.embeddings.openai import OpenAIEmbeddings\n",
    "from langchain.vectorstores import Chroma\n",
    "from langchain.text_splitter import CharacterTextSplitter\n",
    "from langchain.llms import OpenAI\n",
    "from langchain.chains import ConversationalRetrievalChain\n",
    "\n",
    "\n",
    "text_splitter = CharacterTextSplitter(chunk_size=1000, chunk_overlap=0)\n",
    "documents = text_splitter.split_documents(docs)\n",
    "\n",
    "embeddings = OpenAIEmbeddings()\n",
    "vectorstore = Chroma.from_documents(documents, embeddings)"
   ]
  },
  {
   "cell_type": "code",
   "execution_count": 4,
   "metadata": {},
   "outputs": [],
   "source": [
    "from langchain.memory import ConversationBufferMemory\n",
    "memory = ConversationBufferMemory(memory_key=\"chat_history\", return_messages=True)"
   ]
  },
  {
   "cell_type": "code",
   "execution_count": 5,
   "metadata": {},
   "outputs": [],
   "source": [
    "qa = ConversationalRetrievalChain.from_llm(OpenAI(temperature=0), vectorstore.as_retriever(), memory=memory)"
   ]
  },
  {
   "cell_type": "code",
   "execution_count": 6,
   "metadata": {},
   "outputs": [],
   "source": [
    "query = \"How can I make a polywrap call to a hello world wrapper?\"\n",
    "result = qa({\"question\": query})"
   ]
  },
  {
   "cell_type": "code",
   "execution_count": 7,
   "metadata": {},
   "outputs": [
    {
     "data": {
      "text/plain": [
       "{'question': 'How can I make a polywrap call to a hello world wrapper?',\n",
       " 'chat_history': [HumanMessage(content='How can I make a polywrap call to a hello world wrapper?', additional_kwargs={}, example=False),\n",
       "  AIMessage(content=' You can make a polywrap call to a hello world wrapper by using the Polywrap JavaScript Client. You can install the client with the command `npm install --save @polywrap/client-js`. Then, you can invoke the wrapper with the following code: \\n\\n```javascript\\nconst result = await client.invoke({\\n  uri: \"ens/wraps.eth:logger@1.0.0\",\\n  method: \"log\",\\n  args: {\\n    message: \"Hello Polywrap!\",\\n  },\\n});\\n\\nconsole.log(result);\\n```\\n\\nRunning the application using `node index.js`, you should now see two lines appear in your console:\\n\\n```\\nHello Polywrap!\\n{ ok: true, value: true }\\n```\\n\\nThe first line is printed by the Logger Wrap, while the second line shows the structure of the `InvokeResult` object.', additional_kwargs={}, example=False)],\n",
       " 'answer': ' You can make a polywrap call to a hello world wrapper by using the Polywrap JavaScript Client. You can install the client with the command `npm install --save @polywrap/client-js`. Then, you can invoke the wrapper with the following code: \\n\\n```javascript\\nconst result = await client.invoke({\\n  uri: \"ens/wraps.eth:logger@1.0.0\",\\n  method: \"log\",\\n  args: {\\n    message: \"Hello Polywrap!\",\\n  },\\n});\\n\\nconsole.log(result);\\n```\\n\\nRunning the application using `node index.js`, you should now see two lines appear in your console:\\n\\n```\\nHello Polywrap!\\n{ ok: true, value: true }\\n```\\n\\nThe first line is printed by the Logger Wrap, while the second line shows the structure of the `InvokeResult` object.'}"
      ]
     },
     "execution_count": 7,
     "metadata": {},
     "output_type": "execute_result"
    }
   ],
   "source": [
    "result"
   ]
  },
  {
   "cell_type": "code",
   "execution_count": null,
   "metadata": {},
   "outputs": [],
   "source": []
  }
 ],
 "metadata": {
  "kernelspec": {
   "display_name": "Python 3.11.3 64-bit",
   "language": "python",
   "name": "python3"
  },
  "language_info": {
   "codemirror_mode": {
    "name": "ipython",
    "version": 3
   },
   "file_extension": ".py",
   "mimetype": "text/x-python",
   "name": "python",
   "nbconvert_exporter": "python",
   "pygments_lexer": "ipython3",
   "version": "3.11.3"
  },
  "orig_nbformat": 4,
  "vscode": {
   "interpreter": {
    "hash": "aee8b7b246df8f9039afb4144a1f6fd8d2ca17a180786b69acc140d282b71a49"
   }
  }
 },
 "nbformat": 4,
 "nbformat_minor": 2
}
